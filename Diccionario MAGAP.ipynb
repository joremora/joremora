{
 "cells": [
  {
   "cell_type": "markdown",
   "metadata": {},
   "source": [
    "Script para unión de archivos "
   ]
  },
  {
   "cell_type": "code",
   "execution_count": 44,
   "metadata": {},
   "outputs": [
    {
     "name": "stdout",
     "output_type": "stream",
     "text": [
      "2014 :  663\n",
      "2015 :  745\n",
      "2016 :  769\n",
      "2017 :  791\n",
      "2018 :  781\n",
      "2019 :  979\n",
      "Numero de elementos :  572\n",
      "{nan, 'gl_k811', 'ap_k1226', 'ual_estr', 'ct_k518', 'gl_k809', 'aves_autoconsumo', 'gv_k1010', 'oe_k1103', 'us_k309h', 'gp_k910', 'ct_rdpr3', 'transiha', 'us_k302h', 'aves_existencia', 'ct_sequia', 'cp_inundacion', 'fp_pqui', 'Ventas', 'ac_k021214', 'cp_rdpr2', 'us_tznd', 'ac_autopavos', 'al_ncues', 'ft_k725', 'ct_k512', 'ct_umed_pq', 'us_tn', 'ap_k061231', 'cp_k408r', 'ap_k1221', 'cp_helada', 'oe_sup_carto', 'cp_clacul', 'eu_k1301', 'cp_k409h', 'gv_sup_carto', 'gl_propcarne', 'cp_umed_fq', 'ad_provc', 'cp_k411h', 'cp_umed_pq', 'gv_k1004', 'ac_k1217', 'ap_vengapo', 'ac_provc', 'eu_k1308', 'ft_k726', 'edad3', 'ac_autogayga', 'ual_cant', 'cp_pqui', 'ga_tro', 'ct_sist_rieg', 'gv_provc', 'ap_k1230', 'us_k302', 'ct_k524', 'gp_k903', 'ap_k1241', 'vm_subthembras', 'us_prov', 'eu_k1303', 'us_k303h', 'gl_ajendoblep', 'fp_umed_pq', 'ct_rdpr4', 'fp_k705', 'gv_k1003', 'gl_k808', 'ct_fcons', 'ap_k1239', 'oe_k1102', 'ad_k612', 'gl_vacuna', 'ft_bonche', 'ct_sehibrinter', 'us_k311', 'ft_k721', 'ft_forg', 'ft_sist_rieg', 'cp_rdpr3', 'ct_k504', 'av_tn', 'eu_trs', 'montesha', 'cp_estr', 'fp_porc_lluv', 'ac_k1204', 'gl_k817', 'cp_porc_redp', 'us_k306', 'ual_prov', 'ft_numt', 'ct_porc_redp', 'gl_totmachos', 'ad_k614', 'us_k301h', 'ct_k506r', 'ct_prov', 'fp_k712', 'ad_sup_carto', 'ac_k031214', 'cp_k410h', 'gp_k902', 'ct_estr', 'cp_k412r', 'ct_porc_subt', 'ct_nclavr', 'ad_vent', 'ft_provc', 'cp_k409', 'ap_k1240', 'ap_k061236', 'cp_k406', 'cp_color_pq', 'cp_forg', 'ct_cantidad_fq', 'ct_sriego', 'fp_Bouquet', 'ac_k1202', 'ap_autopoypo', 'ct_numl', 'ft_clacu', 'eu_k1306', 'ac_autopoypo', 'eu_tznd', 'cp_sriego', 'gl_ajencarne', 'vm_k821', 'cp_rdpr6', 'ac_k1215', 'fp_tipo_fo', 'ac_sup_carto', 'ct_secomun', 'ct_k506', 'ual_cant       ', 'ad_k604', 'cp_porc_subt', 'ac_venpatos', 'cod_encuesta   ', 'ct_k507', 'ual_estr       ', 'ct_cantidad_fo', 'ap_k061232', 'fp_porg', 'ac_k031212', 'fp_numt', 'ac_k1219', 'cp_cantidad_fq', 'ft_porc_subt', 'vm_k827', 'ap_k1237', 'ap_autogarep', 'transito', 'gp_sup_carto', 'edad1', 'cp_sist_rieg', 'CT_ROTACION', 'fp_provc', 'cp_numl', 'fp_riego', 'cp_tn', 'ct_k512r', 'ft_pqui', 'cp_sup_carto', 'ct_tipo_fo', 'eu_trc', 'av_trs', 'ft_porc_redp', 'vm_k824', 'edad2', 'cp_porg', 'va_nacidos', 'us_provc', 'ap_k051234', 'ct_segm', 'gl_k810', 'ap_autopavos', 'ft_porc_otro', 'ap_sup_carto', 'gp_k906', 'ct_rdpr2', 'cp_fconvs', 'eu_k1304', 'ga_tn', 'cp_porc_otro', 'cp_fconvf', 'eu_k1302', 'ad_clavecu', 'ual_parr', 'ct_k523', 'ual_segm       ', 'ft_k721h', 'us_k307h', 'ct_superdida', 'fp_k709', 'fp_cantidad_fo', 'vm_k825', 'aves_ventas', 'us_cant', 'ac_k031211', 'gv_k1012', 'ct_semejorada', 'ap_venpavos', 'gl_propleche', 'gl_tothembras', 'ft_k720', 'ac_venpavos', 'fp_porc_subt', 'ct_rdpr1', 'cp_porc_lluv', 'vm_numl', 'ap_provcant', 'ct_fqui', 'ct_fconf', 'ft_riego', 'gp_k907', 'us_tro', 'ac_k0210', 'cp_tipo_pq', 'ft_tipo_fo', 'cp_umed_fo', 'ct_nuevacondicion', 'gl_provcant', 'cp_tro', 'vm_k822', 'ct_k522', 'gl_superficie', 'ft_porc_lluv', 'cp_k423', 'cp_litro_po', 'ap_total', 'eu_k1309', 'ct_vent', 'ct_sehibrinac', 'ct_k508', 'ct_helada', 'fp_k706', 'ap_autogapo', 'ad_k611', 'ap_venpoypo', 'eu_k1311', 'cp_k426', 'gv_k1002', 'ap_k1222', 'ft_k719', 'ventas', 'gl_k814', 'gl_k816', 'ft_tipo_pq', 'us_segm', 'gp_superficie', 'ft_cantidad_fq', 'oe_k1101', 'gl_k801', 'ct_otra', 'ft_umed_fo', 'ap_vengarep', 'us_k305h', 'cp_numt', 'ap_autoavest', 'cp_k405', 'ct_inundacion', 'us_k310h', 'ct_umed_fo', 'cp_kilo_po', 'us_k310', 'ad_k607', 'eu_k1312', 'ct_plagas', 'vm_sup_carto', 'ct_porc_otro', 'ft_fqui', 'ct_k510h', 'fp_cantidad_pq', 'gp_provc', 'supertotal', 'ct_k511', 'ct_rdpr6', 'cp_parr', 'fp_porc_redp', 'ft_cantidad_fo', 'fp_k711', 'Montes', 'cp_fqui', 'eu_k1310', 'cp_k411', 'us_numl', 'us_estr', 'gl_k807', 'us_k306h', 'cp_cant', 'vm_provc', 'ft_k718', 'ac_total', 'fp_k707h', 'ct_k510', 'us_k308', 'ual_parr       ', 'us_k301', 'ga_trs', 'ga_tznd', 'ct_ncues', 'cp_enfermedades', 'fp_color_pq', 'ap_k051231', 'ap_k061233', 'eu_tro', 'gl_superficie_ha', 'ac_k1216', 'ct_k516', 'ad_k609', 'cp_vhibrinterna', 'ct_k505', 'gp_k901', 'us_k304', 'us_k308h', 'ft_cantidad_pq', 'ap_k1227', 'cp_superdida', 'ap_venavest', 'ap_autocodorn', 'eu_tn', 'cp_provcant', 'fp_k704', 'ac_k021211', 'eu_provc', 'cp_vcomún', 'cp_tipo_fo', 'cp_trc', 'ft_tabaco', 'ct_parr', 'ft_k716', 'ad_numl', 'fp_sist_rieg', 'ct_riego', 'ct_litro_po', 'cp_k408', 'ad_k610', 'ad_k605', 'gv_k1011', 'cp_trs', 'ap_mesesrecoge', 'fp_porc_otro', 'ft_umed_fq', 'gp_k904', 'us_k311h', 'gp_k905', 'fp_k706h', 'ap_vencodorn', 'fp_fqui', 'ct_porc_supe', 'ct_porg', 'ct_trc', 'gl_numvacunado', 'ga_trc', 'fp_clacu', 'cp_plagas', 'fp_umed_fq', 'cp_vhibrinacio', 'gl_ajennosabe', 'gp_k911', 'cp_tznd', 'cp_prov', 'ct_sup_carto', 'gl_propdoblep', 'cp_cantidad_fo', 'oe_k1104', 'us_trc', 'av_trc', 'fp_k707', 'us_k305', 'ct_rdpr5', 'ct_k509', 'gl_k804', 'cp_porc_supe', 'ft_tipo_fq', 'gl_k815', 'gl_k805', 'us_k303', 'av_tro', 'vm_k823', 'ad_k606', 'cp_k410', 'eu_superficie', 'fp_Bonche', 'ad_prod', 'ct_k520', 'ft_bouquet', 'rc_clacul', 'ct_tn', 'ac_k021213', 'ct_kilo_po', 'cp_k420', 'cp_nuevacondicion', 'ct_tro', 'ft_numl', 'gl_ajenleche', 'fp_cantidad_fq', 'fp_tabaco', 'gp_k912', 'gp_k913', 'ft_k722', 'fecha_digita   ', 'cp_ncues', 'cp_tipo_fq', 'al_ncues       ', 'cp_rdpr1', 'gv_k1013', 'superdida', 'gv_superficie', 'ft_k720h', 'gl_k812', 'ac_vengayga', 'gl_sup_carto', 'ct_pqui', 'ap_k051236', 'cp_k417', 'oe_provc', 'cp_riego', 'gl_k802', 'ct_tipo_pq', 'su_fertilizada', 'ac_k1201', 'cp_segm', 'us_ncues', 'anio_encuesta  ', 'cp_prod', 'ct_provc', 'ct_enfermedades', 'fp_sup_carto', 'ft_sup_carto', 'ct_k526', 'fp_litro_po', 'ft_umed_pq', 'gv_k1001', 'ap_k1225', 'cp_edad', 'ft_k724', 'ct_color_pq', 'ad_nclav', 'us_k304h', 'ac_k1218', 'gl_k806', 'cp_cantidad_pq', 'gl_k813', 'ft_k717', 'ap_k061235', 'fp_numl', 'ft_color_pq', 'fp_forg', 'us_k307', 'ct_tipo_fq', 'ap_k1223', 'us_k309', 'ft_porg', 'ap_k051232', 'cp_k404', 'ft_porc_supe', 'gp_superficie_ha', 'cp_rdpr5', 'ft_litro_po', 'ual_prov       ', 'ct_k511h', 'oe_superficie', 'us_trs', 'us_numt', 'ct_numt', 'ct_cantidad_pq', 'oe_superficie_ha', 'ft_tn', 'gl_k818', 'eu_k1305', 'cp_k416', 'ct_porc_lluv', 'ap_k1238', 'cp_vent', 'cp_rdpr4', 'fp_k708', 'us_sup_carto', 'ad_numt', 'cp_sequia', 'vm_subtmachos', 'ac_k021212', 'ac_autopatos', 'fp_tipo_pq', 'cp_nclavr', 'eu_k1307', 'eu_sup_carto', 'su_plaguicidas', 'fp_umed_fo', 'ct_tznd', 'fp_tipo_fq', 'fp_kilo_po', 'gl_k803', 'fact_exp_fin', 'ct_prod', 'ap_k1224', 'ap_k051233', 'ct_forg', 'ct_nuevaclavecult', 'cp_k422', 'ac_k1203', 'ct_clacul', 'fp_full_tabaco', 'ct_cant', 'ct_umed_fq', 'ft_kilo_po', 'ft_k723', 'ft_full_tabaco', 'cp_otra', 'ap_k061234', 'ct_secertificada', 'ct_trs', 'av_tznd', 'cp_nuevaclavecult', 'ual_segm', 'ac_venpoypo', 'ct_k517', 'gv_superficie_ha', 'fp_porc_supe', 'cp_k412', 'cp_k424', 'cp_k418', 'cp_vmejorada', 'ap_k051235', 'ac_k031213', 'us_parr', 'fp_k710', 'eu_superficie_ha', 'vm_k826', 'fp_tn'}\n"
     ]
    }
   ],
   "source": [
    "import pandas as pd\n",
    "import numpy as np \n",
    "\n",
    "df = pd.read_csv('Análisis de Diccionario Conglomerado CSV.csv', delimiter = \";\",encoding = 'latin1', error_bad_lines=False)\n",
    "#df.fillna(0, inplace=True) #Se llena los missing values con 0 \n",
    "df\n",
    "\n",
    "#Separación por años \n",
    "v_2014 =df[\"2014\"]\n",
    "v_2015 = df[\"2015\"]\n",
    "v_2016 = df[\"2016\"]\n",
    "v_2017 = df[\"2017\"]\n",
    "v_2018 = df[\"2018\"]\n",
    "v_2019 = df[\"2019\"]\n",
    "\n",
    "#Comparación de años con pd.equal\n",
    "v_2014.equals(v_2015)\n",
    "v_2015.equals(v_2016)\n",
    "v_2016.equals(v_2017)\n",
    "v_2017.equals(v_2018)\n",
    "v_2018.equals(v_2019)\n",
    "\n",
    "#Cantidad de elementos en cada data frame \n",
    "print(\"2014 : \",v_2014.count())\n",
    "print(\"2015 : \",v_2015.count())\n",
    "print(\"2016 : \",v_2016.count())\n",
    "print(\"2017 : \",v_2017.count())\n",
    "print(\"2018 : \",v_2018.count())\n",
    "print(\"2019 : \",v_2019.count())\n",
    "\n",
    "#Se convierte cada data frame para operaciones de conjuntos \n",
    "set_2014 = set(v_2014)\n",
    "set_2015 = set(v_2015)\n",
    "set_2016 = set(v_2016)\n",
    "set_2017 = set(v_2017)\n",
    "set_2018 = set(v_2018)\n",
    "set_2019 = set(v_2019)\n",
    "\n",
    "#for a in range(6):\n",
    "    \n",
    "print('Numero de elementos : ', len(set_2014))\n",
    "\n",
    "#Comparación entre años \n",
    "Intersección_2014_2015 = set_2014.intersection(set_2015)\n",
    "print(Intersección_2014_2015)\n"
   ]
  },
  {
   "cell_type": "code",
   "execution_count": null,
   "metadata": {},
   "outputs": [],
   "source": []
  }
 ],
 "metadata": {
  "kernelspec": {
   "display_name": "Python 3",
   "language": "python",
   "name": "python3"
  },
  "language_info": {
   "codemirror_mode": {
    "name": "ipython",
    "version": 3
   },
   "file_extension": ".py",
   "mimetype": "text/x-python",
   "name": "python",
   "nbconvert_exporter": "python",
   "pygments_lexer": "ipython3",
   "version": "3.8.3"
  }
 },
 "nbformat": 4,
 "nbformat_minor": 4
}
